{
 "cells": [
  {
   "cell_type": "code",
   "execution_count": null,
   "id": "e0871777",
   "metadata": {},
   "outputs": [],
   "source": [
    "\n",
    "1. In the below elements which of them are values or an expression? eg:- values can be integer or string and expressions will be mathematical operators."
   ]
  },
  {
   "cell_type": "raw",
   "id": "c13eed35",
   "metadata": {},
   "source": [
    "*      = Expression\n",
    "hello  = Value\n",
    "-87.8  = Value\n",
    "-      = Expression\n",
    "/      = Expression\n",
    "+      = Expression\n",
    "6      = Value"
   ]
  },
  {
   "cell_type": "raw",
   "id": "8407d8c4",
   "metadata": {},
   "source": []
  },
  {
   "cell_type": "code",
   "execution_count": null,
   "id": "e707a69f",
   "metadata": {},
   "outputs": [],
   "source": [
    "l=[1,2,3]"
   ]
  }
 ],
 "metadata": {
  "kernelspec": {
   "display_name": "Python 3 (ipykernel)",
   "language": "python",
   "name": "python3"
  },
  "language_info": {
   "codemirror_mode": {
    "name": "ipython",
    "version": 3
   },
   "file_extension": ".py",
   "mimetype": "text/x-python",
   "name": "python",
   "nbconvert_exporter": "python",
   "pygments_lexer": "ipython3",
   "version": "3.9.12"
  }
 },
 "nbformat": 4,
 "nbformat_minor": 5
}
