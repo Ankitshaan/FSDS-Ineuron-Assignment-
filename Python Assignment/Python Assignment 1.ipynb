{
 "cells": [
  {
   "cell_type": "raw",
   "id": "d53909a5",
   "metadata": {},
   "source": [
    "\n",
    "1. In the below elements which of them are values or an expression? eg:- values can be integer or string and expressions will be mathematical operators."
   ]
  },
  {
   "cell_type": "raw",
   "id": "330dc49b",
   "metadata": {},
   "source": [
    "*      = Expression\n",
    "hello  = Value\n",
    "-87.8  = Value\n",
    "-      = Expression\n",
    "/      = Expression\n",
    "+      = Expression\n",
    "6      = Value"
   ]
  },
  {
   "cell_type": "code",
   "execution_count": null,
   "id": "6ee22cec",
   "metadata": {},
   "outputs": [],
   "source": []
  },
  {
   "cell_type": "code",
   "execution_count": null,
   "id": "e0fffd17",
   "metadata": {},
   "outputs": [],
   "source": []
  }
 ],
 "metadata": {
  "kernelspec": {
   "display_name": "Python 3 (ipykernel)",
   "language": "python",
   "name": "python3"
  },
  "language_info": {
   "codemirror_mode": {
    "name": "ipython",
    "version": 3
   },
   "file_extension": ".py",
   "mimetype": "text/x-python",
   "name": "python",
   "nbconvert_exporter": "python",
   "pygments_lexer": "ipython3",
   "version": "3.9.12"
  }
 },
 "nbformat": 4,
 "nbformat_minor": 5
}
