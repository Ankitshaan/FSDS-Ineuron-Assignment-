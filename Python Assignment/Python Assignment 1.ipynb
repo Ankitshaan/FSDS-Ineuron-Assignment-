{
 "cells": [
  {
   "cell_type": "raw",
   "id": "53f14170",
   "metadata": {},
   "source": [
    "\n",
    "1. In the below elements which of them are values or an expression? eg:- values can be integer or string and\n",
    "   expressions will be mathematical operators."
   ]
  },
  {
   "cell_type": "markdown",
   "id": "eb1fac41",
   "metadata": {},
   "source": [
    "*      = Expression\n",
    "hello  = Value\n",
    "-87.8  = Value\n",
    "-      = Expression\n",
    "/      = Expression\n",
    "+      = Expression\n",
    "6      = Value"
   ]
  },
  {
   "cell_type": "raw",
   "id": "95293424",
   "metadata": {},
   "source": [
    "hii"
   ]
  },
  {
   "cell_type": "code",
   "execution_count": null,
   "id": "e707a69f",
   "metadata": {},
   "outputs": [],
   "source": [
    "l=[1,2,3]"
   ]
  }
 ],
 "metadata": {
  "kernelspec": {
   "display_name": "Python 3 (ipykernel)",
   "language": "python",
   "name": "python3"
  },
  "language_info": {
   "codemirror_mode": {
    "name": "ipython",
    "version": 3
   },
   "file_extension": ".py",
   "mimetype": "text/x-python",
   "name": "python",
   "nbconvert_exporter": "python",
   "pygments_lexer": "ipython3",
   "version": "3.9.12"
  }
 },
 "nbformat": 4,
 "nbformat_minor": 5
}
