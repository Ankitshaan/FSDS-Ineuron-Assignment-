{
 "cells": [
  {
   "cell_type": "raw",
   "id": "29cba0d9",
   "metadata": {},
   "source": [
    "\n",
    "1. In the below elements which of them are values or an expression? eg:- values can be integer or string and\n",
    "   expressions will be mathematical operators."
   ]
  },
  {
   "cell_type": "raw",
   "id": "40936196",
   "metadata": {},
   "source": [
    "*      = Expression\n",
    "hello  = Value\n",
    "-87.8  = Value\n",
    "-      = Expression\n",
    "/      = Expression\n",
    "+      = Expression\n",
    "6      = Value"
   ]
  },
  {
   "cell_type": "raw",
   "id": "a9c3218f",
   "metadata": {},
   "source": [
    "hii"
   ]
  },
  {
   "cell_type": "raw",
   "id": "032c9ef4",
   "metadata": {},
   "source": [
    "l=[1,2,3]"
   ]
  },
  {
   "cell_type": "raw",
   "id": "395af65f",
   "metadata": {},
   "source": [
    "2. What is the difference between string and variable?"
   ]
  },
  {
   "cell_type": "markdown",
   "id": "2f823f84",
   "metadata": {},
   "source": []
  }
 ],
 "metadata": {
  "kernelspec": {
   "display_name": "Python 3 (ipykernel)",
   "language": "python",
   "name": "python3"
  },
  "language_info": {
   "codemirror_mode": {
    "name": "ipython",
    "version": 3
   },
   "file_extension": ".py",
   "mimetype": "text/x-python",
   "name": "python",
   "nbconvert_exporter": "python",
   "pygments_lexer": "ipython3",
   "version": "3.9.12"
  }
 },
 "nbformat": 4,
 "nbformat_minor": 5
}
